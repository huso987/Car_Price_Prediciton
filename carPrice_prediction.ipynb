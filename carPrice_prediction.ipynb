{
  "nbformat": 4,
  "nbformat_minor": 0,
  "metadata": {
    "colab": {
      "provenance": []
    },
    "kernelspec": {
      "name": "python3",
      "display_name": "Python 3"
    },
    "language_info": {
      "name": "python"
    }
  },
  "cells": [
    {
      "cell_type": "markdown",
      "source": [
        "# **Kütühaneler**"
      ],
      "metadata": {
        "id": "ZMzAyC4Hl0Em"
      }
    },
    {
      "cell_type": "code",
      "execution_count": 21,
      "metadata": {
        "id": "N8-pKcTSlHag"
      },
      "outputs": [],
      "source": [
        "import pandas as pd\n",
        "import numpy as np\n",
        "import matplotlib.pyplot as plt\n",
        "import seaborn as sns\n",
        "from sklearn.model_selection import train_test_split, GridSearchCV\n",
        "from sklearn.linear_model import LinearRegression\n",
        "from sklearn.ensemble import RandomForestRegressor\n",
        "from sklearn.metrics import mean_squared_error, r2_score\n",
        "import warnings\n",
        "warnings.filterwarnings('ignore')"
      ]
    },
    {
      "cell_type": "code",
      "source": [
        "df = pd.read_csv(\"/content/drive/MyDrive/Colab çalışma/Neıman/CarPrice_Prediction/CarPrice_Assignment.csv\")"
      ],
      "metadata": {
        "id": "FBTVQOkSlVOD"
      },
      "execution_count": 22,
      "outputs": []
    },
    {
      "cell_type": "markdown",
      "source": [
        "# **Veri Keşfi ve Temizleme**"
      ],
      "metadata": {
        "id": "3mDWeYVsmDFt"
      }
    },
    {
      "cell_type": "code",
      "source": [
        "# İlk birkaç satırı göster\n",
        "print(df.head())\n",
        "\n",
        "# Veri hakkında genel bilgi\n",
        "print(df.info())\n",
        "\n",
        "# Eksik değerleri kontrol et\n",
        "print(df.isnull().sum())"
      ],
      "metadata": {
        "colab": {
          "base_uri": "https://localhost:8080/"
        },
        "id": "oLjspcFUmGdT",
        "outputId": "635b80e5-f0f6-400a-e9eb-82c5d611891e"
      },
      "execution_count": 23,
      "outputs": [
        {
          "output_type": "stream",
          "name": "stdout",
          "text": [
            "   car_ID  symboling                   CarName fueltype aspiration doornumber  \\\n",
            "0       1          3        alfa-romero giulia      gas        std        two   \n",
            "1       2          3       alfa-romero stelvio      gas        std        two   \n",
            "2       3          1  alfa-romero Quadrifoglio      gas        std        two   \n",
            "3       4          2               audi 100 ls      gas        std       four   \n",
            "4       5          2                audi 100ls      gas        std       four   \n",
            "\n",
            "       carbody drivewheel enginelocation  wheelbase  ...  enginesize  \\\n",
            "0  convertible        rwd          front       88.6  ...         130   \n",
            "1  convertible        rwd          front       88.6  ...         130   \n",
            "2    hatchback        rwd          front       94.5  ...         152   \n",
            "3        sedan        fwd          front       99.8  ...         109   \n",
            "4        sedan        4wd          front       99.4  ...         136   \n",
            "\n",
            "   fuelsystem  boreratio  stroke compressionratio horsepower  peakrpm citympg  \\\n",
            "0        mpfi       3.47    2.68              9.0        111     5000      21   \n",
            "1        mpfi       3.47    2.68              9.0        111     5000      21   \n",
            "2        mpfi       2.68    3.47              9.0        154     5000      19   \n",
            "3        mpfi       3.19    3.40             10.0        102     5500      24   \n",
            "4        mpfi       3.19    3.40              8.0        115     5500      18   \n",
            "\n",
            "   highwaympg    price  \n",
            "0          27  13495.0  \n",
            "1          27  16500.0  \n",
            "2          26  16500.0  \n",
            "3          30  13950.0  \n",
            "4          22  17450.0  \n",
            "\n",
            "[5 rows x 26 columns]\n",
            "<class 'pandas.core.frame.DataFrame'>\n",
            "RangeIndex: 205 entries, 0 to 204\n",
            "Data columns (total 26 columns):\n",
            " #   Column            Non-Null Count  Dtype  \n",
            "---  ------            --------------  -----  \n",
            " 0   car_ID            205 non-null    int64  \n",
            " 1   symboling         205 non-null    int64  \n",
            " 2   CarName           205 non-null    object \n",
            " 3   fueltype          205 non-null    object \n",
            " 4   aspiration        205 non-null    object \n",
            " 5   doornumber        205 non-null    object \n",
            " 6   carbody           205 non-null    object \n",
            " 7   drivewheel        205 non-null    object \n",
            " 8   enginelocation    205 non-null    object \n",
            " 9   wheelbase         205 non-null    float64\n",
            " 10  carlength         205 non-null    float64\n",
            " 11  carwidth          205 non-null    float64\n",
            " 12  carheight         205 non-null    float64\n",
            " 13  curbweight        205 non-null    int64  \n",
            " 14  enginetype        205 non-null    object \n",
            " 15  cylindernumber    205 non-null    object \n",
            " 16  enginesize        205 non-null    int64  \n",
            " 17  fuelsystem        205 non-null    object \n",
            " 18  boreratio         205 non-null    float64\n",
            " 19  stroke            205 non-null    float64\n",
            " 20  compressionratio  205 non-null    float64\n",
            " 21  horsepower        205 non-null    int64  \n",
            " 22  peakrpm           205 non-null    int64  \n",
            " 23  citympg           205 non-null    int64  \n",
            " 24  highwaympg        205 non-null    int64  \n",
            " 25  price             205 non-null    float64\n",
            "dtypes: float64(8), int64(8), object(10)\n",
            "memory usage: 41.8+ KB\n",
            "None\n",
            "car_ID              0\n",
            "symboling           0\n",
            "CarName             0\n",
            "fueltype            0\n",
            "aspiration          0\n",
            "doornumber          0\n",
            "carbody             0\n",
            "drivewheel          0\n",
            "enginelocation      0\n",
            "wheelbase           0\n",
            "carlength           0\n",
            "carwidth            0\n",
            "carheight           0\n",
            "curbweight          0\n",
            "enginetype          0\n",
            "cylindernumber      0\n",
            "enginesize          0\n",
            "fuelsystem          0\n",
            "boreratio           0\n",
            "stroke              0\n",
            "compressionratio    0\n",
            "horsepower          0\n",
            "peakrpm             0\n",
            "citympg             0\n",
            "highwaympg          0\n",
            "price               0\n",
            "dtype: int64\n"
          ]
        }
      ]
    },
    {
      "cell_type": "markdown",
      "source": [
        "# **Kategorik Verilerin Dönüşümü**"
      ],
      "metadata": {
        "id": "tmaOxKXbmL2S"
      }
    },
    {
      "cell_type": "code",
      "source": [
        "# car_ID ve CarName kolonlarını düşürüyoruz\n",
        "df.drop(['car_ID', 'CarName'], axis=1, inplace=True)\n",
        "\n",
        "# Kategorik değişkenleri one-hot encoding ile sayısal hale getirme\n",
        "df = pd.get_dummies(df, drop_first=True)"
      ],
      "metadata": {
        "id": "1XQ9IRIJmQn-"
      },
      "execution_count": 24,
      "outputs": []
    },
    {
      "cell_type": "markdown",
      "source": [
        "# **Data seti Train ve Test ' e ayırma**"
      ],
      "metadata": {
        "id": "nzLkZ3XCmUOr"
      }
    },
    {
      "cell_type": "code",
      "source": [
        "# Bağımlı ve bağımsız değişkenlerin ayrılması\n",
        "X = df.drop('price', axis=1)\n",
        "y = df['price']\n",
        "\n",
        "# Eğitim ve test setlerinin ayrılması\n",
        "X_train, X_test, y_train, y_test = train_test_split(X, y, test_size=0.2, random_state=42)"
      ],
      "metadata": {
        "id": "iR7pKD-DmaGc"
      },
      "execution_count": 25,
      "outputs": []
    },
    {
      "cell_type": "markdown",
      "source": [
        "# **Model Eğitimi= Lineer regressin**"
      ],
      "metadata": {
        "id": "od7anmlBmgLq"
      }
    },
    {
      "cell_type": "code",
      "source": [
        "# Lineer Regresyon Modeli\n",
        "lr = LinearRegression()\n",
        "lr.fit(X_train, y_train)\n",
        "\n",
        "# Tahminler\n",
        "y_pred_lr = lr.predict(X_test)\n",
        "\n",
        "# Değerlendirme\n",
        "mse_lr = mean_squared_error(y_test, y_pred_lr)\n",
        "r2_lr = r2_score(y_test, y_pred_lr)\n",
        "\n",
        "print(f\"Linear Regression MSE: {mse_lr}\")\n",
        "print(f\"Linear Regression R2: {r2_lr}\")"
      ],
      "metadata": {
        "colab": {
          "base_uri": "https://localhost:8080/"
        },
        "id": "xycN2b57mlRv",
        "outputId": "c5a30daa-6567-4f8b-8fec-59f81d7ad8be"
      },
      "execution_count": 26,
      "outputs": [
        {
          "output_type": "stream",
          "name": "stdout",
          "text": [
            "Linear Regression MSE: 8482008.484371819\n",
            "Linear Regression R2: 0.8925566700320243\n"
          ]
        }
      ]
    },
    {
      "cell_type": "markdown",
      "source": [
        "# **Model Eğitimi= Random Forest**"
      ],
      "metadata": {
        "id": "To_2D89Nmmq3"
      }
    },
    {
      "cell_type": "code",
      "source": [
        "# Random Forest Modeli\n",
        "rf = RandomForestRegressor(n_estimators=100, random_state=42)\n",
        "rf.fit(X_train, y_train)\n",
        "\n",
        "# Tahminler\n",
        "y_pred_rf = rf.predict(X_test)\n",
        "\n",
        "# Değerlendirme\n",
        "mse_rf = mean_squared_error(y_test, y_pred_rf)\n",
        "r2_rf = r2_score(y_test, y_pred_rf)\n",
        "\n",
        "print(f\"Random Forest MSE: {mse_rf}\")\n",
        "print(f\"Random Forest R2: {r2_rf}\")"
      ],
      "metadata": {
        "colab": {
          "base_uri": "https://localhost:8080/"
        },
        "id": "a_Qqc_PtmtS3",
        "outputId": "6adc42c5-d832-459a-c131-9df9b1163e56"
      },
      "execution_count": 27,
      "outputs": [
        {
          "output_type": "stream",
          "name": "stdout",
          "text": [
            "Random Forest MSE: 3314701.736754924\n",
            "Random Forest R2: 0.9580119976178074\n"
          ]
        }
      ]
    },
    {
      "cell_type": "markdown",
      "source": [
        "# **Model İyileştirme**"
      ],
      "metadata": {
        "id": "TtDDT2Lqn1O8"
      }
    },
    {
      "cell_type": "code",
      "source": [
        "# Hiperparametre ayarı için Grid Search\n",
        "param_grid = {\n",
        "    'n_estimators': [100, 200, 300],\n",
        "    'max_features': ['auto', 'sqrt', 'log2'],\n",
        "    'max_depth': [10, 20, 30, None],\n",
        "    'min_samples_split': [2, 5, 10],\n",
        "    'min_samples_leaf': [1, 2, 4]\n",
        "}\n",
        "\n",
        "grid_search = GridSearchCV(estimator=rf, param_grid=param_grid, cv=3, n_jobs=-1, verbose=2)\n",
        "grid_search.fit(X_train, y_train)\n",
        "\n",
        "# En iyi parametreler ile yeniden eğitim\n",
        "best_rf = grid_search.best_estimator_\n",
        "best_rf.fit(X_train, y_train)\n",
        "\n",
        "# Tahminler\n",
        "y_pred_best_rf = best_rf.predict(X_test)\n",
        "\n",
        "# Değerlendirme\n",
        "mse_best_rf = mean_squared_error(y_test, y_pred_best_rf)\n",
        "r2_best_rf = r2_score(y_test, y_pred_best_rf)\n",
        "\n",
        "print(f\"Best Random Forest MSE: {mse_best_rf}\")\n",
        "print(f\"Best Random Forest R2: {r2_best_rf}\")"
      ],
      "metadata": {
        "colab": {
          "base_uri": "https://localhost:8080/"
        },
        "id": "qkq5jKwcn30k",
        "outputId": "61dd46cf-93a2-43dd-c75b-edd7d7e8f6ff"
      },
      "execution_count": 28,
      "outputs": [
        {
          "output_type": "stream",
          "name": "stdout",
          "text": [
            "Fitting 3 folds for each of 324 candidates, totalling 972 fits\n",
            "Best Random Forest MSE: 3239638.042841328\n",
            "Best Random Forest R2: 0.9589628447253804\n"
          ]
        }
      ]
    },
    {
      "cell_type": "markdown",
      "source": [
        "# **Sonuçlar**"
      ],
      "metadata": {
        "id": "wFvJ55V0m4rr"
      }
    },
    {
      "cell_type": "code",
      "source": [
        "# Gerçek vs Tahmin Değerleri\n",
        "plt.figure(figsize=(10, 6))\n",
        "plt.scatter(y_test, y_pred_best_rf, alpha=0.3)\n",
        "plt.plot([y_test.min(), y_test.max()], [y_test.min(), y_test.max()], '--r')\n",
        "plt.xlabel('Gerçek Fiyat')\n",
        "plt.ylabel('Tahmin Edilen Fiyat')\n",
        "plt.title('Gerçek vs Tahmin Edilen Fiyat')\n",
        "plt.show()"
      ],
      "metadata": {
        "colab": {
          "base_uri": "https://localhost:8080/",
          "height": 564
        },
        "id": "XMNOp4kRm7Ml",
        "outputId": "d807b718-1da1-405c-baa5-350b32739c44"
      },
      "execution_count": 29,
      "outputs": [
        {
          "output_type": "display_data",
          "data": {
            "text/plain": [
              "<Figure size 1000x600 with 1 Axes>"
            ],
            "image/png": "[encoded data removed]"
          },
          "metadata": {}
        }
      ]
    },
    {
      "cell_type": "markdown",
      "source": [
        "# **Deneme**"
      ],
      "metadata": {
        "id": "ICSXEYE7nuYx"
      }
    },
    {
      "cell_type": "code",
      "source": [
        "def predict_car_price(input_data):\n",
        "    \"\"\"\n",
        "    Bu fonksiyon, kullanıcının girdiği özelliklere göre araba fiyatını tahmin eder.\n",
        "    input_data: dictionary, araba özellikleri\n",
        "    \"\"\"\n",
        "    input_df = pd.DataFrame([input_data])\n",
        "    input_df = pd.get_dummies(input_df)\n",
        "    input_df = input_df.reindex(columns=X.columns, fill_value=0)\n",
        "\n",
        "    prediction = best_rf.predict(input_df)\n",
        "    return prediction[0]\n",
        "\n",
        "# Örnek kullanım\n",
        "example_input = {\n",
        "    'symboling': 3,\n",
        "    'fueltype': 'gas',\n",
        "    'aspiration': 'std',\n",
        "    'doornumber': 'four',\n",
        "    'carbody': 'sedan',\n",
        "    'drivewheel': 'fwd',\n",
        "    'enginelocation': 'front',\n",
        "    'wheelbase': 88.6,\n",
        "    'carlength': 168.8,\n",
        "    'carwidth': 64.1,\n",
        "    'carheight': 48.8,\n",
        "    'curbweight': 2548,\n",
        "    'enginetype': 'dohc',\n",
        "    'cylindernumber': 'four',\n",
        "    'enginesize': 130,\n",
        "    'fuelsystem': 'mpfi',\n",
        "    'boreratio': 3.47,\n",
        "    'stroke': 2.68,\n",
        "    'compressionratio': 9.0,\n",
        "    'horsepower': 111,\n",
        "    'peakrpm': 5000,\n",
        "    'citympg': 21,\n",
        "    'highwaympg': 27\n",
        "}\n",
        "\n",
        "predicted_price = predict_car_price(example_input)\n",
        "print(f\"Tahmin edilen araba fiyatı: ${predicted_price:.2f}\")"
      ],
      "metadata": {
        "colab": {
          "base_uri": "https://localhost:8080/"
        },
        "id": "9NLfzogWnwgL",
        "outputId": "86445877-2433-45e4-b48f-eb041b675a1b"
      },
      "execution_count": 30,
      "outputs": [
        {
          "output_type": "stream",
          "name": "stdout",
          "text": [
            "Tahmin edilen araba fiyatı: $13939.96\n"
          ]
        }
      ]
    }
  ]
}